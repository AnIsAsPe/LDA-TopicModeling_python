{
  "nbformat": 4,
  "nbformat_minor": 0,
  "metadata": {
    "colab": {
      "name": "Modelos de lenguaje usando n-gramas .ipynb",
      "provenance": [],
      "mount_file_id": "https://github.com/AnIsAsPe/LDA-TopicModeling_python/blob/main/Notebooks/Modelos_de_lenguaje_usando_n_gramas_.ipynb",
      "authorship_tag": "ABX9TyPeBIZO2QmbJzpd7wPxumIK",
      "include_colab_link": true
    },
    "kernelspec": {
      "name": "python3",
      "display_name": "Python 3"
    },
    "language_info": {
      "name": "python"
    }
  },
  "cells": [
    {
      "cell_type": "markdown",
      "metadata": {
        "id": "view-in-github",
        "colab_type": "text"
      },
      "source": [
        "<a href=\"https://colab.research.google.com/github/AnIsAsPe/LDA-TopicModeling_python/blob/main/Notebooks/Modelos_generativos_de_lenguaje.ipynb\" target=\"_parent\"><img src=\"https://colab.research.google.com/assets/colab-badge.svg\" alt=\"Open In Colab\"/></a>"
      ]
    },
    {
      "cell_type": "code",
      "source": [
        "!pip install contractions"
      ],
      "metadata": {
        "id": "UN7OdGTE3_xQ",
        "outputId": "f92c7b30-1602-410b-c2eb-1037e399b49e",
        "colab": {
          "base_uri": "https://localhost:8080/"
        }
      },
      "execution_count": 1,
      "outputs": [
        {
          "output_type": "stream",
          "name": "stdout",
          "text": [
            "Collecting contractions\n",
            "  Downloading contractions-0.1.73-py2.py3-none-any.whl (8.7 kB)\n",
            "Collecting textsearch>=0.0.21 (from contractions)\n",
            "  Downloading textsearch-0.0.24-py2.py3-none-any.whl (7.6 kB)\n",
            "Collecting anyascii (from textsearch>=0.0.21->contractions)\n",
            "  Downloading anyascii-0.3.2-py3-none-any.whl (289 kB)\n",
            "\u001b[2K     \u001b[90m━━━━━━━━━━━━━━━━━━━━━━━━━━━━━━━━━━━━━━━\u001b[0m \u001b[32m289.9/289.9 kB\u001b[0m \u001b[31m6.2 MB/s\u001b[0m eta \u001b[36m0:00:00\u001b[0m\n",
            "\u001b[?25hCollecting pyahocorasick (from textsearch>=0.0.21->contractions)\n",
            "  Downloading pyahocorasick-2.0.0-cp310-cp310-manylinux_2_5_x86_64.manylinux1_x86_64.manylinux_2_12_x86_64.manylinux2010_x86_64.whl (110 kB)\n",
            "\u001b[2K     \u001b[90m━━━━━━━━━━━━━━━━━━━━━━━━━━━━━━━━━━━━━━━\u001b[0m \u001b[32m110.8/110.8 kB\u001b[0m \u001b[31m8.2 MB/s\u001b[0m eta \u001b[36m0:00:00\u001b[0m\n",
            "\u001b[?25hInstalling collected packages: pyahocorasick, anyascii, textsearch, contractions\n",
            "Successfully installed anyascii-0.3.2 contractions-0.1.73 pyahocorasick-2.0.0 textsearch-0.0.24\n"
          ]
        }
      ]
    },
    {
      "cell_type": "code",
      "metadata": {
        "id": "MCiXEXQCxopK"
      },
      "source": [
        "\n",
        "import pandas as pd\n",
        "import numpy as np\n",
        "\n",
        "import re               # módulo operaciones expresiones regulares\n",
        "import operator\n",
        "\n",
        "import contractions\n",
        "from collections import Counter\n",
        "import random\n",
        "\n",
        "import matplotlib.pyplot as plt\n"
      ],
      "execution_count": 2,
      "outputs": []
    },
    {
      "cell_type": "markdown",
      "metadata": {
        "id": "pbALUjcWkWgr"
      },
      "source": [
        "## Funciones"
      ]
    },
    {
      "cell_type": "code",
      "metadata": {
        "id": "96lVL2qUMtsa"
      },
      "source": [
        "def leer_libro(archivo_txt):\n",
        "  '''funcion para leer un archivo en formato txt'''\n",
        "  with open(archivo_txt, \"r\", encoding=\"utf8\") as f:\n",
        "    texto = f.read()\n",
        "    texto = texto.replace(\"\\n\", \"\").replace(\"\\r\", \"\")\n",
        "  return texto"
      ],
      "execution_count": 3,
      "outputs": []
    },
    {
      "cell_type": "code",
      "source": [
        "def limpiar_texto(texto):\n",
        "  '''Función para convertir a minúsculas, quitar signos de puntuación,\n",
        "  números y tildes'''\n",
        "  #quitar contracciones\n",
        "  texto = contractions.fix(texto)\n",
        "\n",
        "  #Convertir en mínusculas\n",
        "  texto = texto.lower()\n",
        "\n",
        "  #Quitar puntuación y números\n",
        "  texto = re.sub('[^ña-z]+', ' ', texto)\n",
        "\n",
        "  return texto"
      ],
      "metadata": {
        "id": "laQ9gqkU3a9Q"
      },
      "execution_count": 4,
      "outputs": []
    },
    {
      "cell_type": "code",
      "metadata": {
        "id": "tpk5BIiTQHlz"
      },
      "source": [
        "def obtener_ngramas(texto, N):\n",
        "    palabras_en_texto = texto.split()\n",
        "\n",
        "    ngramas = (tuple(palabras_en_texto[i:i+N]) for i in range(len(palabras_en_texto)-N+1))\n",
        "    return ngramas"
      ],
      "execution_count": 5,
      "outputs": []
    },
    {
      "cell_type": "markdown",
      "metadata": {
        "id": "a7_G2FQW0ENa"
      },
      "source": [
        "# Leer y limpiar texto\n",
        "\n",
        "obtener archivo [txt](https://github.com/sharanyavb/harry-potter/blob/master/Books_Text/HP1.txt)"
      ]
    },
    {
      "cell_type": "code",
      "source": [
        "!wget https://raw.githubusercontent.com/sharanyavb/harry-potter/master/Books_Text/HP1.txt"
      ],
      "metadata": {
        "id": "JHAZIqqPHxPB",
        "outputId": "cad33d7b-8871-409d-c544-bb5b7af53055",
        "colab": {
          "base_uri": "https://localhost:8080/"
        }
      },
      "execution_count": 6,
      "outputs": [
        {
          "output_type": "stream",
          "name": "stdout",
          "text": [
            "--2023-09-18 20:56:34--  https://raw.githubusercontent.com/sharanyavb/harry-potter/master/Books_Text/HP1.txt\n",
            "Resolving raw.githubusercontent.com (raw.githubusercontent.com)... 185.199.111.133, 185.199.108.133, 185.199.109.133, ...\n",
            "Connecting to raw.githubusercontent.com (raw.githubusercontent.com)|185.199.111.133|:443... connected.\n",
            "HTTP request sent, awaiting response... 200 OK\n",
            "Length: 492006 (480K) [text/plain]\n",
            "Saving to: ‘HP1.txt’\n",
            "\n",
            "HP1.txt             100%[===================>] 480.47K  --.-KB/s    in 0.02s   \n",
            "\n",
            "2023-09-18 20:56:34 (24.4 MB/s) - ‘HP1.txt’ saved [492006/492006]\n",
            "\n"
          ]
        }
      ]
    },
    {
      "cell_type": "code",
      "metadata": {
        "colab": {
          "base_uri": "https://localhost:8080/",
          "height": 174
        },
        "id": "10qtklw6yTK5",
        "outputId": "5746ff37-b1c5-494b-817e-bd5b24a7b7fe"
      },
      "source": [
        "libro = leer_libro('/content/HP1.txt')\n",
        "\n",
        "libro[:1500]"
      ],
      "execution_count": 7,
      "outputs": [
        {
          "output_type": "execute_result",
          "data": {
            "text/plain": [
              "'THE BOY WHO LIVED Mr. and Mrs. Dursley, of number four, Privet Drive, were proud to say that they were perfectly normal, thank you very much. They were the last people you’d expect to be involved in anything strange or mysterious, because they just didn’t hold with such nonsense. Mr. Dursley was the director of a firm called Grunnings, which made drills. He was a big, beefy man with hardly any neck, although he did have a very large mustache. Mrs. Dursley was thin and blonde and had nearly twice the usual amount of neck, which came in very useful as she spent so much of her time craning over garden fences, spying on the neighbors. The Dursley s had a small son called Dudley and in their opinion there was no finer boy anywhere. The Dursleys had everything they wanted, but they also had a secret, and their greatest fear was that somebody would discover it. They didn’t think they could bear it if anyone found out about the Potters. Mrs. Potter was Mrs. Dursley’s sister, but they hadn’t Page | 2 Harry Potter and the Philosophers Stone - J.K. Rowling met for several years; in fact, Mrs. Dursley pretended she didn’t have a sister, because her sister and her good-for-nothing husband were as unDursleyish as it was possible to be. The Dursleys shuddered to think what the neighbors would say if the Potters arrived in the street. The Dursleys knew that the Potters had a small son, too, but they had never even seen him. This boy was another good reason for keeping the Potters away; they '"
            ],
            "application/vnd.google.colaboratory.intrinsic+json": {
              "type": "string"
            }
          },
          "metadata": {},
          "execution_count": 7
        }
      ]
    },
    {
      "cell_type": "code",
      "metadata": {
        "id": "Vo3ZwXPw2rhB",
        "colab": {
          "base_uri": "https://localhost:8080/",
          "height": 174
        },
        "outputId": "93ab884b-8b5a-4179-f739-d5ac472967c5"
      },
      "source": [
        "# lista con cadenas correspondientes al pie de página.\n",
        "borrar = ['Page | {} Harry Potter and the Philosophers Stone - J.K. Rowling'.format(i)\\\n",
        "         for i in range(2,347)]\n",
        "\n",
        "for tx in borrar:\n",
        "    libro = libro.replace(tx, '')\n",
        "\n",
        "libro[:1500]"
      ],
      "execution_count": 8,
      "outputs": [
        {
          "output_type": "execute_result",
          "data": {
            "text/plain": [
              "'THE BOY WHO LIVED Mr. and Mrs. Dursley, of number four, Privet Drive, were proud to say that they were perfectly normal, thank you very much. They were the last people you’d expect to be involved in anything strange or mysterious, because they just didn’t hold with such nonsense. Mr. Dursley was the director of a firm called Grunnings, which made drills. He was a big, beefy man with hardly any neck, although he did have a very large mustache. Mrs. Dursley was thin and blonde and had nearly twice the usual amount of neck, which came in very useful as she spent so much of her time craning over garden fences, spying on the neighbors. The Dursley s had a small son called Dudley and in their opinion there was no finer boy anywhere. The Dursleys had everything they wanted, but they also had a secret, and their greatest fear was that somebody would discover it. They didn’t think they could bear it if anyone found out about the Potters. Mrs. Potter was Mrs. Dursley’s sister, but they hadn’t  met for several years; in fact, Mrs. Dursley pretended she didn’t have a sister, because her sister and her good-for-nothing husband were as unDursleyish as it was possible to be. The Dursleys shuddered to think what the neighbors would say if the Potters arrived in the street. The Dursleys knew that the Potters had a small son, too, but they had never even seen him. This boy was another good reason for keeping the Potters away; they didn’t want Dudley mixing with a child like that. When Mr. and '"
            ],
            "application/vnd.google.colaboratory.intrinsic+json": {
              "type": "string"
            }
          },
          "metadata": {},
          "execution_count": 8
        }
      ]
    },
    {
      "cell_type": "code",
      "source": [
        "libro_limpio = limpiar_texto(libro)\n",
        "libro_limpio[:1500]\n"
      ],
      "metadata": {
        "id": "Sht3EE1k4shH",
        "outputId": "fc0e34fb-e8c8-4028-a05b-cd3b9242eb80",
        "colab": {
          "base_uri": "https://localhost:8080/",
          "height": 174
        }
      },
      "execution_count": 9,
      "outputs": [
        {
          "output_type": "execute_result",
          "data": {
            "text/plain": [
              "'the boy who lived mr and mrs dursley of number four privet drive were proud to say that they were perfectly normal thank you very much they were the last people you would expect to be involved in anything strange or mysterious because they just did not hold with such nonsense mr dursley was the director of a firm called grunnings which made drills he was a big beefy man with hardly any neck although he did have a very large mustache mrs dursley was thin and blonde and had nearly twice the usual amount of neck which came in very useful as she spent so much of her time craning over garden fences spying on the neighbors the dursley s had a small son called dudley and in their opinion there was no finer boy anywhere the dursleys had everything they wanted but they also had a secret and their greatest fear was that somebody would discover it they did not think they could bear it if anyone found out about the potters mrs potter was mrs dursley s sister but they had not met for several years in fact mrs dursley pretended she did not have a sister because her sister and her good for nothing husband were as undursleyish as it was possible to be the dursleys shuddered to think what the neighbors would say if the potters arrived in the street the dursleys knew that the potters had a small son too but they had never even seen him this boy was another good reason for keeping the potters away they did not want dudley mixing with a child like that when mr and mrs dursley woke up on the dull'"
            ],
            "application/vnd.google.colaboratory.intrinsic+json": {
              "type": "string"
            }
          },
          "metadata": {},
          "execution_count": 9
        }
      ]
    },
    {
      "cell_type": "markdown",
      "source": [
        "# Distribución de probabilidad de las palabras en el libro"
      ],
      "metadata": {
        "id": "KtHsXLOQN-qr"
      }
    },
    {
      "cell_type": "code",
      "source": [
        "Counter(libro_limpio.split())   # Counter es una \"colección\" donde los elementos encontrados en\n",
        "                                # cualquier objeto iterable son guardados como claves de un\n",
        "                                # diccionario y el conteo como valores"
      ],
      "metadata": {
        "id": "-ccuwQAuN3kY",
        "outputId": "c7ae974c-97e8-4182-e59a-eb7b6611526f",
        "colab": {
          "base_uri": "https://localhost:8080/"
        }
      },
      "execution_count": 10,
      "outputs": [
        {
          "output_type": "execute_result",
          "data": {
            "text/plain": [
              "Counter({'the': 3651,\n",
              "         'boy': 85,\n",
              "         'who': 200,\n",
              "         'lived': 9,\n",
              "         'mr': 81,\n",
              "         'and': 1935,\n",
              "         'mrs': 46,\n",
              "         'dursley': 57,\n",
              "         'of': 1311,\n",
              "         'number': 17,\n",
              "         'four': 36,\n",
              "         'privet': 16,\n",
              "         'drive': 20,\n",
              "         'were': 332,\n",
              "         'proud': 7,\n",
              "         'to': 1872,\n",
              "         'say': 75,\n",
              "         'that': 688,\n",
              "         'they': 690,\n",
              "         'perfectly': 5,\n",
              "         'normal': 10,\n",
              "         'thank': 9,\n",
              "         'you': 1037,\n",
              "         'very': 172,\n",
              "         'much': 76,\n",
              "         'last': 84,\n",
              "         'people': 96,\n",
              "         'would': 421,\n",
              "         'expect': 13,\n",
              "         'be': 366,\n",
              "         'involved': 5,\n",
              "         'in': 967,\n",
              "         'anything': 72,\n",
              "         'strange': 23,\n",
              "         'or': 109,\n",
              "         'mysterious': 6,\n",
              "         'because': 91,\n",
              "         'just': 180,\n",
              "         'did': 297,\n",
              "         'not': 1014,\n",
              "         'hold': 12,\n",
              "         'with': 416,\n",
              "         'such': 21,\n",
              "         'nonsense': 4,\n",
              "         'was': 1262,\n",
              "         'director': 2,\n",
              "         'a': 1687,\n",
              "         'firm': 2,\n",
              "         'called': 44,\n",
              "         'grunnings': 2,\n",
              "         'which': 88,\n",
              "         'made': 66,\n",
              "         'drills': 6,\n",
              "         'he': 1757,\n",
              "         'big': 28,\n",
              "         'beefy': 1,\n",
              "         'man': 37,\n",
              "         'hardly': 22,\n",
              "         'any': 63,\n",
              "         'neck': 18,\n",
              "         'although': 11,\n",
              "         'have': 491,\n",
              "         'large': 51,\n",
              "         'mustache': 6,\n",
              "         'thin': 10,\n",
              "         'blonde': 2,\n",
              "         'had': 755,\n",
              "         'nearly': 37,\n",
              "         'twice': 15,\n",
              "         'usual': 18,\n",
              "         'amount': 1,\n",
              "         'came': 75,\n",
              "         'useful': 6,\n",
              "         'as': 526,\n",
              "         'she': 253,\n",
              "         'spent': 11,\n",
              "         'so': 238,\n",
              "         'her': 180,\n",
              "         'time': 120,\n",
              "         'craning': 2,\n",
              "         'over': 171,\n",
              "         'garden': 6,\n",
              "         'fences': 1,\n",
              "         'spying': 3,\n",
              "         'on': 637,\n",
              "         'neighbors': 2,\n",
              "         's': 564,\n",
              "         'small': 32,\n",
              "         'son': 9,\n",
              "         'dudley': 140,\n",
              "         'their': 217,\n",
              "         'opinion': 5,\n",
              "         'there': 313,\n",
              "         'no': 195,\n",
              "         'finer': 2,\n",
              "         'anywhere': 7,\n",
              "         'dursleys': 49,\n",
              "         'everything': 30,\n",
              "         'wanted': 46,\n",
              "         'but': 485,\n",
              "         'also': 15,\n",
              "         'secret': 15,\n",
              "         'greatest': 5,\n",
              "         'fear': 10,\n",
              "         'somebody': 4,\n",
              "         'discover': 1,\n",
              "         'it': 1186,\n",
              "         'think': 123,\n",
              "         'could': 303,\n",
              "         'bear': 5,\n",
              "         'if': 245,\n",
              "         'anyone': 39,\n",
              "         'found': 69,\n",
              "         'out': 375,\n",
              "         'about': 225,\n",
              "         'potters': 13,\n",
              "         'potter': 111,\n",
              "         'sister': 14,\n",
              "         'met': 19,\n",
              "         'for': 370,\n",
              "         'several': 13,\n",
              "         'years': 52,\n",
              "         'fact': 15,\n",
              "         'pretended': 3,\n",
              "         'good': 91,\n",
              "         'nothing': 63,\n",
              "         'husband': 1,\n",
              "         'undursleyish': 1,\n",
              "         'possible': 12,\n",
              "         'shuddered': 3,\n",
              "         'what': 386,\n",
              "         'arrived': 17,\n",
              "         'street': 21,\n",
              "         'knew': 64,\n",
              "         'too': 101,\n",
              "         'never': 126,\n",
              "         'even': 105,\n",
              "         'seen': 53,\n",
              "         'him': 500,\n",
              "         'this': 251,\n",
              "         'another': 56,\n",
              "         'reason': 22,\n",
              "         'keeping': 10,\n",
              "         'away': 71,\n",
              "         'want': 74,\n",
              "         'mixing': 2,\n",
              "         'child': 2,\n",
              "         'like': 192,\n",
              "         'when': 178,\n",
              "         'woke': 10,\n",
              "         'up': 372,\n",
              "         'dull': 2,\n",
              "         'gray': 13,\n",
              "         'tuesday': 3,\n",
              "         'our': 41,\n",
              "         'story': 11,\n",
              "         'starts': 3,\n",
              "         'cloudy': 2,\n",
              "         'sky': 13,\n",
              "         'outside': 36,\n",
              "         'suggest': 4,\n",
              "         'things': 54,\n",
              "         'soon': 14,\n",
              "         'happening': 4,\n",
              "         'all': 399,\n",
              "         'country': 4,\n",
              "         'hummed': 3,\n",
              "         'picked': 16,\n",
              "         'his': 936,\n",
              "         'most': 30,\n",
              "         'boring': 3,\n",
              "         'tie': 1,\n",
              "         'work': 28,\n",
              "         'gossiped': 1,\n",
              "         'happily': 5,\n",
              "         'wrestled': 1,\n",
              "         'screaming': 4,\n",
              "         'into': 219,\n",
              "         'high': 45,\n",
              "         'chair': 10,\n",
              "         'none': 11,\n",
              "         'them': 339,\n",
              "         'noticed': 29,\n",
              "         'tawny': 2,\n",
              "         'owl': 44,\n",
              "         'flutter': 3,\n",
              "         'past': 44,\n",
              "         'window': 32,\n",
              "         'at': 625,\n",
              "         'half': 40,\n",
              "         'eight': 5,\n",
              "         'briefcase': 1,\n",
              "         'pecked': 1,\n",
              "         'cheek': 4,\n",
              "         'tried': 63,\n",
              "         'kiss': 3,\n",
              "         'bye': 10,\n",
              "         'missed': 4,\n",
              "         'now': 166,\n",
              "         'having': 16,\n",
              "         'tantrum': 3,\n",
              "         'throwing': 10,\n",
              "         'cereal': 1,\n",
              "         'walls': 16,\n",
              "         'little': 72,\n",
              "         'tyke': 2,\n",
              "         'chortled': 2,\n",
              "         'left': 82,\n",
              "         'house': 77,\n",
              "         'got': 207,\n",
              "         'car': 20,\n",
              "         'backed': 3,\n",
              "         'corner': 25,\n",
              "         'first': 115,\n",
              "         'sign': 17,\n",
              "         'something': 139,\n",
              "         'peculiar': 4,\n",
              "         'cat': 24,\n",
              "         'reading': 5,\n",
              "         'map': 4,\n",
              "         'second': 44,\n",
              "         'realize': 10,\n",
              "         'then': 165,\n",
              "         'jerked': 10,\n",
              "         'head': 99,\n",
              "         'around': 142,\n",
              "         'look': 129,\n",
              "         'again': 101,\n",
              "         'tabby': 4,\n",
              "         'standing': 33,\n",
              "         'sight': 25,\n",
              "         'been': 211,\n",
              "         'thinking': 16,\n",
              "         'must': 68,\n",
              "         'trick': 3,\n",
              "         'light': 27,\n",
              "         'blinked': 5,\n",
              "         'stared': 35,\n",
              "         'back': 261,\n",
              "         'drove': 6,\n",
              "         'road': 7,\n",
              "         'watched': 21,\n",
              "         'mirror': 46,\n",
              "         'said': 794,\n",
              "         'looking': 110,\n",
              "         'cats': 6,\n",
              "         'read': 42,\n",
              "         'maps': 1,\n",
              "         'signs': 1,\n",
              "         'gave': 37,\n",
              "         'himself': 65,\n",
              "         'shake': 8,\n",
              "         'put': 61,\n",
              "         'mind': 49,\n",
              "         'toward': 71,\n",
              "         'town': 5,\n",
              "         'thought': 96,\n",
              "         'except': 24,\n",
              "         'order': 4,\n",
              "         'hoping': 11,\n",
              "         'get': 195,\n",
              "         'day': 59,\n",
              "         'edge': 11,\n",
              "         'driven': 3,\n",
              "         'by': 150,\n",
              "         'else': 38,\n",
              "         'sat': 45,\n",
              "         'morning': 32,\n",
              "         'traffic': 3,\n",
              "         'jam': 3,\n",
              "         'help': 29,\n",
              "         'noticing': 9,\n",
              "         'seemed': 72,\n",
              "         'lot': 48,\n",
              "         'strangely': 5,\n",
              "         'dressed': 7,\n",
              "         'cloaks': 4,\n",
              "         'funny': 29,\n",
              "         'clothes': 8,\n",
              "         'getups': 1,\n",
              "         'saw': 63,\n",
              "         'young': 10,\n",
              "         'supposed': 16,\n",
              "         'some': 81,\n",
              "         'stupid': 20,\n",
              "         'new': 38,\n",
              "         'fashion': 2,\n",
              "         'drummed': 1,\n",
              "         'fingers': 14,\n",
              "         'steering': 2,\n",
              "         'wheel': 1,\n",
              "         'eyes': 105,\n",
              "         'fell': 46,\n",
              "         'huddle': 2,\n",
              "         'these': 39,\n",
              "         'weirdos': 2,\n",
              "         'quite': 36,\n",
              "         'close': 19,\n",
              "         'whispering': 4,\n",
              "         'excitedly': 6,\n",
              "         'together': 20,\n",
              "         'enraged': 1,\n",
              "         'see': 180,\n",
              "         'couple': 8,\n",
              "         'why': 68,\n",
              "         'older': 6,\n",
              "         'than': 93,\n",
              "         'wearing': 18,\n",
              "         'an': 219,\n",
              "         'emerald': 6,\n",
              "         'green': 31,\n",
              "         'cloak': 58,\n",
              "         'nerve': 5,\n",
              "         'struck': 6,\n",
              "         'probably': 11,\n",
              "         'silly': 3,\n",
              "         'stunt': 1,\n",
              "         'obviously': 13,\n",
              "         'collecting': 3,\n",
              "         'yes': 69,\n",
              "         'moved': 22,\n",
              "         'few': 55,\n",
              "         'minutes': 30,\n",
              "         'later': 43,\n",
              "         'parking': 3,\n",
              "         'always': 41,\n",
              "         'office': 5,\n",
              "         'ninth': 1,\n",
              "         'floor': 53,\n",
              "         'might': 55,\n",
              "         'harder': 7,\n",
              "         'concentrate': 3,\n",
              "         'owls': 23,\n",
              "         'swooping': 5,\n",
              "         'broad': 2,\n",
              "         'daylight': 5,\n",
              "         'though': 86,\n",
              "         'down': 182,\n",
              "         'pointed': 21,\n",
              "         'gazed': 1,\n",
              "         'open': 57,\n",
              "         'mouthed': 3,\n",
              "         'after': 68,\n",
              "         'sped': 8,\n",
              "         'overhead': 6,\n",
              "         'nighttime': 3,\n",
              "         'however': 21,\n",
              "         'free': 15,\n",
              "         'yelled': 15,\n",
              "         'five': 33,\n",
              "         'different': 22,\n",
              "         'important': 16,\n",
              "         'telephone': 6,\n",
              "         'calls': 2,\n",
              "         'shouted': 29,\n",
              "         'bit': 67,\n",
              "         'more': 111,\n",
              "         'mood': 5,\n",
              "         'until': 45,\n",
              "         'lunchtime': 2,\n",
              "         'stretch': 1,\n",
              "         'legs': 22,\n",
              "         'walk': 12,\n",
              "         'across': 38,\n",
              "         'buy': 12,\n",
              "         'bun': 2,\n",
              "         'from': 241,\n",
              "         'bakery': 1,\n",
              "         'forgotten': 17,\n",
              "         'passed': 24,\n",
              "         'group': 2,\n",
              "         'next': 95,\n",
              "         'baker': 1,\n",
              "         'eyed': 5,\n",
              "         'angrily': 7,\n",
              "         'know': 222,\n",
              "         'uneasy': 2,\n",
              "         'bunch': 2,\n",
              "         'single': 10,\n",
              "         'tin': 1,\n",
              "         'way': 94,\n",
              "         'clutching': 7,\n",
              "         'doughnut': 1,\n",
              "         'bag': 10,\n",
              "         'caught': 38,\n",
              "         'words': 24,\n",
              "         'saying': 44,\n",
              "         'is': 629,\n",
              "         'right': 127,\n",
              "         'i': 923,\n",
              "         'heard': 75,\n",
              "         'harry': 1336,\n",
              "         'stopped': 29,\n",
              "         'dead': 24,\n",
              "         'flooded': 4,\n",
              "         'looked': 169,\n",
              "         'whisperers': 1,\n",
              "         'better': 41,\n",
              "         'dashed': 3,\n",
              "         'hurried': 14,\n",
              "         'snapped': 25,\n",
              "         'secretary': 1,\n",
              "         'disturb': 2,\n",
              "         'seized': 13,\n",
              "         'almost': 47,\n",
              "         'finished': 13,\n",
              "         'dialing': 1,\n",
              "         'home': 18,\n",
              "         'changed': 11,\n",
              "         'receiver': 1,\n",
              "         'stroked': 3,\n",
              "         'being': 39,\n",
              "         'unusual': 5,\n",
              "         'name': 46,\n",
              "         'sure': 43,\n",
              "         'lots': 8,\n",
              "         'come': 95,\n",
              "         'nephew': 2,\n",
              "         'harvey': 1,\n",
              "         'harold': 1,\n",
              "         'point': 14,\n",
              "         'worrying': 3,\n",
              "         'upset': 5,\n",
              "         'mention': 8,\n",
              "         'blame': 4,\n",
              "         'same': 37,\n",
              "         'those': 26,\n",
              "         'afternoon': 16,\n",
              "         'building': 3,\n",
              "         'clock': 16,\n",
              "         'still': 92,\n",
              "         'worried': 11,\n",
              "         'walked': 46,\n",
              "         'straight': 25,\n",
              "         'someone': 31,\n",
              "         'door': 106,\n",
              "         'sorry': 32,\n",
              "         'grunted': 7,\n",
              "         'tiny': 14,\n",
              "         'old': 59,\n",
              "         'stumbled': 4,\n",
              "         'seconds': 15,\n",
              "         'before': 107,\n",
              "         'realized': 17,\n",
              "         'violet': 3,\n",
              "         'seem': 16,\n",
              "         'knocked': 18,\n",
              "         'ground': 34,\n",
              "         'contrary': 2,\n",
              "         'face': 93,\n",
              "         'split': 6,\n",
              "         'wide': 15,\n",
              "         'smile': 13,\n",
              "         'squeaky': 1,\n",
              "         'voice': 59,\n",
              "         'passersby': 2,\n",
              "         'stare': 5,\n",
              "         'do': 325,\n",
              "         'my': 108,\n",
              "         'dear': 21,\n",
              "         'sir': 32,\n",
              "         'me': 219,\n",
              "         'today': 15,\n",
              "         'rejoice': 1,\n",
              "         'has': 38,\n",
              "         'gone': 50,\n",
              "         'muggles': 19,\n",
              "         'yourself': 14,\n",
              "         'should': 54,\n",
              "         'celebrating': 5,\n",
              "         'happy': 13,\n",
              "         'hugged': 3,\n",
              "         'middle': 13,\n",
              "         'off': 201,\n",
              "         'stood': 37,\n",
              "         'rooted': 2,\n",
              "         'spot': 8,\n",
              "         'complete': 4,\n",
              "         'stranger': 7,\n",
              "         'muggle': 22,\n",
              "         'whatever': 9,\n",
              "         'rattled': 4,\n",
              "         'set': 26,\n",
              "         'imagining': 5,\n",
              "         'hoped': 4,\n",
              "         'approve': 1,\n",
              "         'imagination': 2,\n",
              "         'pulled': 52,\n",
              "         'driveway': 1,\n",
              "         'thing': 49,\n",
              "         'improve': 2,\n",
              "         'spotted': 11,\n",
              "         'sitting': 26,\n",
              "         'wall': 36,\n",
              "         'one': 256,\n",
              "         'markings': 3,\n",
              "         'its': 84,\n",
              "         'shoo': 1,\n",
              "         'loudly': 18,\n",
              "         'move': 27,\n",
              "         'stern': 4,\n",
              "         'behavior': 1,\n",
              "         'wondered': 14,\n",
              "         'trying': 65,\n",
              "         'pull': 12,\n",
              "         'let': 73,\n",
              "         'determined': 3,\n",
              "         'wife': 3,\n",
              "         'nice': 24,\n",
              "         'told': 93,\n",
              "         'dinner': 8,\n",
              "         'problems': 4,\n",
              "         'daughter': 1,\n",
              "         'how': 138,\n",
              "         'learned': 10,\n",
              "         'word': 18,\n",
              "         'will': 247,\n",
              "         'act': 1,\n",
              "         'normally': 3,\n",
              "         'bed': 45,\n",
              "         'went': 71,\n",
              "         'living': 11,\n",
              "         'room': 90,\n",
              "         'catch': 24,\n",
              "         'report': 4,\n",
              "         'evening': 14,\n",
              "         'news': 9,\n",
              "         'finally': 23,\n",
              "         'bird': 2,\n",
              "         'watchers': 1,\n",
              "         'everywhere': 6,\n",
              "         'reported': 1,\n",
              "         'nation': 1,\n",
              "         'behaving': 3,\n",
              "         'unusually': 2,\n",
              "         'hunt': 1,\n",
              "         'night': 49,\n",
              "         'are': 308,\n",
              "         'ever': 59,\n",
              "         'hundreds': 11,\n",
              "         'sightings': 1,\n",
              "         'birds': 5,\n",
              "         'flying': 15,\n",
              "         'every': 53,\n",
              "         'direction': 13,\n",
              "         'since': 22,\n",
              "         'sunrise': 1,\n",
              "         'experts': 1,\n",
              "         'unable': 2,\n",
              "         'explain': 12,\n",
              "         'suddenly': 69,\n",
              "         'sleeping': 3,\n",
              "         'pattern': 1,\n",
              "         'newscaster': 1,\n",
              "         'allowed': 18,\n",
              "         'grin': 6,\n",
              "         'jim': 2,\n",
              "         'mcguffin': 1,\n",
              "         'weather': 4,\n",
              "         'going': 142,\n",
              "         'showers': 1,\n",
              "         'tonight': 21,\n",
              "         'well': 120,\n",
              "         'ted': 1,\n",
              "         'weatherman': 1,\n",
              "         'only': 111,\n",
              "         'acting': 3,\n",
              "         'oddly': 2,\n",
              "         'viewers': 1,\n",
              "         'far': 22,\n",
              "         'apart': 13,\n",
              "         'kent': 2,\n",
              "         'yorkshire': 2,\n",
              "         'dundee': 1,\n",
              "         'phoning': 1,\n",
              "         'tell': 70,\n",
              "         'instead': 16,\n",
              "         'rain': 4,\n",
              "         'promised': 3,\n",
              "         'yesterday': 7,\n",
              "         'downpour': 1,\n",
              "         'shooting': 6,\n",
              "         'stars': 9,\n",
              "         'perhaps': 18,\n",
              "         'bonfire': 1,\n",
              "         'early': 4,\n",
              "         'week': 24,\n",
              "         'folks': 1,\n",
              "         'can': 82,\n",
              "         'promise': 2,\n",
              "         'wet': 4,\n",
              "         'frozen': 2,\n",
              "         'armchair': 3,\n",
              "         'britain': 3,\n",
              "         'place': 34,\n",
              "         'whisper': 8,\n",
              "         'carrying': 10,\n",
              "         'two': 102,\n",
              "         'cups': 2,\n",
              "         'tea': 14,\n",
              "         'cleared': 6,\n",
              "         'throat': 5,\n",
              "         'nervously': 11,\n",
              "         'er': 18,\n",
              "         'petunia': 58,\n",
              "         'your': 149,\n",
              "         'lately': 3,\n",
              "         'expected': 12,\n",
              "         'shocked': 7,\n",
              "         'angry': 15,\n",
              "         'sharply': 7,\n",
              "         'stuff': 15,\n",
              "         'mumbled': 5,\n",
              "         'maybe': 19,\n",
              "         'crowd': 17,\n",
              "         'sipped': 1,\n",
              "         'through': 125,\n",
              "         'pursed': 1,\n",
              "         'lips': 9,\n",
              "         'whether': 10,\n",
              "         'dared': 3,\n",
              "         'decided': 11,\n",
              "         'dare': 12,\n",
              "         'casually': 4,\n",
              "         'age': 5,\n",
              "         'suppose': 30,\n",
              "         'stiffly': 3,\n",
              "         'howard': 1,\n",
              "         'nasty': 14,\n",
              "         'common': 23,\n",
              "         'ask': 33,\n",
              "         'oh': 72,\n",
              "         'heart': 25,\n",
              "         'sinking': 2,\n",
              "         'horribly': 3,\n",
              "         'agree': 2,\n",
              "         'subject': 3,\n",
              "         'upstairs': 13,\n",
              "         'while': 60,\n",
              "         'bathroom': 5,\n",
              "         'crept': 11,\n",
              "         'bedroom': 6,\n",
              "         'peered': 7,\n",
              "         'front': 52,\n",
              "         'staring': 23,\n",
              "         'waiting': 19,\n",
              "         'related': 1,\n",
              "         'pair': 16,\n",
              "         'asleep': 21,\n",
              "         'quickly': 44,\n",
              "         'lay': 17,\n",
              "         'awake': 8,\n",
              "         'turning': 16,\n",
              "         'comforting': 2,\n",
              "         'near': 16,\n",
              "         'kind': 11,\n",
              "         'mixed': 4,\n",
              "         'yawned': 2,\n",
              "         'turned': 77,\n",
              "         'affect': 1,\n",
              "         'wrong': 18,\n",
              "         'drifting': 1,\n",
              "         'sleep': 18,\n",
              "         'showing': 7,\n",
              "         'sleepiness': 1,\n",
              "         'statue': 4,\n",
              "         'fixed': 6,\n",
              "         'unblinkingly': 2,\n",
              "         'quiver': 3,\n",
              "         'slammed': 7,\n",
              "         'nor': 6,\n",
              "         'swooped': 7,\n",
              "         'midnight': 11,\n",
              "         'appeared': 12,\n",
              "         'watching': 19,\n",
              "         'silently': 7,\n",
              "         'popped': 2,\n",
              "         'tail': 14,\n",
              "         'twitched': 5,\n",
              "         'narrowed': 2,\n",
              "         'tall': 12,\n",
              "         'judging': 1,\n",
              "         'silver': 32,\n",
              "         'hair': 38,\n",
              "         'beard': 12,\n",
              "         'both': 32,\n",
              "         'long': 71,\n",
              "         'enough': 48,\n",
              "         'tuck': 1,\n",
              "         'belt': 1,\n",
              "         'robes': 26,\n",
              "         'purple': 14,\n",
              "         'swept': 2,\n",
              "         'heeled': 1,\n",
              "         'buckled': 1,\n",
              "         'boots': 5,\n",
              "         'blue': 12,\n",
              "         'bright': 20,\n",
              "         'sparkling': 4,\n",
              "         'behind': 79,\n",
              "         'moon': 7,\n",
              "         'spectacles': 2,\n",
              "         'nose': 31,\n",
              "         'crooked': 2,\n",
              "         'broken': 14,\n",
              "         'least': 11,\n",
              "         'albus': 12,\n",
              "         'dumbledore': 160,\n",
              "         'where': 109,\n",
              "         'unwelcome': 1,\n",
              "         'busy': 11,\n",
              "         'rummaging': 2,\n",
              "         'other': 90,\n",
              "         'end': 49,\n",
              "         'amuse': 2,\n",
              "         'chuckled': 7,\n",
              "         'muttered': 21,\n",
              "         'known': 12,\n",
              "         'inside': 59,\n",
              "         'pocket': 17,\n",
              "         'cigarette': 1,\n",
              "         'lighter': 2,\n",
              "         'flicked': 3,\n",
              "         'held': 21,\n",
              "         'air': 47,\n",
              "         'clicked': 7,\n",
              "         'nearest': 6,\n",
              "         'lamp': 14,\n",
              "         'pop': 5,\n",
              "         'flickered': 2,\n",
              "         'darkness': 7,\n",
              "         'twelve': 17,\n",
              "         'times': 18,\n",
              "         'outer': 3,\n",
              "         'lights': 5,\n",
              "         'whole': 33,\n",
              "         'pinpricks': 1,\n",
              "         'distance': 4,\n",
              "         'beady': 2,\n",
              "         'able': 26,\n",
              "         'pavement': 1,\n",
              "         'slipped': 10,\n",
              "         'moment': 48,\n",
              "         'spoke': 19,\n",
              "         'fancy': 1,\n",
              "         'seeing': 4,\n",
              "         'here': 114,\n",
              "         'professor': 180,\n",
              "         'mcgonagall': 100,\n",
              "         'smiling': 20,\n",
              "         'rather': 22,\n",
              "         'severe': 1,\n",
              "         'woman': 18,\n",
              "         'square': 2,\n",
              "         'glasses': 15,\n",
              "         'exactly': 22,\n",
              "         'shape': 3,\n",
              "         'black': 57,\n",
              "         'drawn': 2,\n",
              "         'tight': 9,\n",
              "         'distinctly': 1,\n",
              "         'ruffled': 4,\n",
              "         'asked': 60,\n",
              "         'sit': 10,\n",
              "         'stiff': 2,\n",
              "         'brick': 3,\n",
              "         'dozen': 3,\n",
              "         'feasts': 2,\n",
              "         'parties': 2,\n",
              "         'sniffed': 4,\n",
              "         'everyone': 60,\n",
              "         'impatiently': 3,\n",
              "         'careful': 9,\n",
              "         'dark': 62,\n",
              "         'flocks': 1,\n",
              "         'completely': 6,\n",
              "         'bound': 4,\n",
              "         'notice': 8,\n",
              "         'bet': 16,\n",
              "         'dedalus': 4,\n",
              "         'diggle': 5,\n",
              "         'sense': 4,\n",
              "         'cannot': 72,\n",
              "         'gently': 6,\n",
              "         'we': 261,\n",
              "         'precious': 2,\n",
              "         'celebrate': 2,\n",
              "         'eleven': 15,\n",
              "         'irritably': 3,\n",
              "         'lose': 13,\n",
              "         'heads': 19,\n",
              "         'downright': 2,\n",
              "         'careless': 2,\n",
              "         'streets': 2,\n",
              "         'swapping': 1,\n",
              "         'rumors': 3,\n",
              "         'threw': 17,\n",
              "         'sharp': 12,\n",
              "         'sideways': 4,\n",
              "         'glance': 3,\n",
              "         'fine': 7,\n",
              "         'seems': 8,\n",
              "         'disappeared': 17,\n",
              "         'us': 92,\n",
              "         'really': 73,\n",
              "         'certainly': 8,\n",
              "         'thankful': 1,\n",
              "         'care': 8,\n",
              "         'lemon': 7,\n",
              "         'drop': 8,\n",
              "         'sweet': 4,\n",
              "         'am': 133,\n",
              "         'fond': 2,\n",
              "         'coldly': 4,\n",
              "         'drops': 3,\n",
              "         'surely': 3,\n",
              "         'sensible': 1,\n",
              "         'person': 8,\n",
              "         'call': 19,\n",
              "         'persuade': 2,\n",
              "         'proper': 5,\n",
              "         'voldemort': 38,\n",
              "         'flinched': 1,\n",
              "         'unsticking': 1,\n",
              "         'gets': 9,\n",
              "         'confusing': 2,\n",
              "         'keep': 56,\n",
              "         'frightened': 5,\n",
              "         'sounding': 7,\n",
              "         'exasperated': 1,\n",
              "         'admiring': 3,\n",
              "         'knows': 21,\n",
              "         'flatter': 1,\n",
              "         'calmly': 3,\n",
              "         'powers': 3,\n",
              "         'noble': 2,\n",
              "         'use': 25,\n",
              "         'lucky': 17,\n",
              "         'blushed': 2,\n",
              "         'madam': 36,\n",
              "         'pomfrey': 14,\n",
              "         'liked': 14,\n",
              "         'earmuffs': 1,\n",
              "         'shot': 11,\n",
              "         'reached': 37,\n",
              "         'anxious': 2,\n",
              "         'discuss': 1,\n",
              "         'real': 12,\n",
              "         'cold': 26,\n",
              "         'hard': 30,\n",
              "         'neither': 10,\n",
              "         'piercing': 4,\n",
              "         'plain': 3,\n",
              "         'believe': 22,\n",
              "         'true': 14,\n",
              "         'choosing': 2,\n",
              "         'answer': 22,\n",
              "         'pressed': 7,\n",
              "         'godric': 1,\n",
              "         'hollow': 1,\n",
              "         'find': 54,\n",
              "         'rumor': 1,\n",
              "         'lily': 7,\n",
              "         'james': 5,\n",
              "         'bowed': 9,\n",
              "         'gasped': 20,\n",
              "         'patted': 2,\n",
              "         'shoulder': 15,\n",
              "         'heavily': 4,\n",
              "         'trembled': 3,\n",
              "         'kill': 20,\n",
              "         'power': 10,\n",
              "         'somehow': 13,\n",
              "         'broke': 11,\n",
              "         'nodded': 10,\n",
              "         'glumly': 1,\n",
              "         'faltered': 1,\n",
              "         'done': 44,\n",
              "         'killed': 14,\n",
              "         'astounding': 1,\n",
              "         'stop': 45,\n",
              "         'heaven': 2,\n",
              "         'survive': 1,\n",
              "         'guess': 4,\n",
              "         'may': 10,\n",
              "         'lace': 1,\n",
              "         'handkerchief': 5,\n",
              "         'dabbed': 1,\n",
              "         'beneath': 6,\n",
              "         'great': 72,\n",
              "         'sniff': 2,\n",
              "         'took': 60,\n",
              "         'golden': 10,\n",
              "         'watch': 18,\n",
              "         'examined': 3,\n",
              "         'odd': 13,\n",
              "         'hands': 34,\n",
              "         'numbers': 2,\n",
              "         'planets': 6,\n",
              "         'moving': 8,\n",
              "         'hagrid': 370,\n",
              "         'late': 15,\n",
              "         'places': 5,\n",
              "         'bring': 5,\n",
              "         'aunt': 65,\n",
              "         'uncle': 122,\n",
              "         'family': 29,\n",
              "         'mean': 34,\n",
              "         'live': 12,\n",
              "         'cried': 11,\n",
              "         'jumping': 3,\n",
              "         'page': 13,\n",
              "         'philosophers': 11,\n",
              "         'stone': 91,\n",
              "         'j': 11,\n",
              "         'k': 23,\n",
              "         'rowling': 11,\n",
              "         'feet': 51,\n",
              "         'pointing': 18,\n",
              "         'less': 10,\n",
              "         'kicking': 1,\n",
              "         'mother': 32,\n",
              "         'sweets': 7,\n",
              "         'best': 35,\n",
              "         'firmly': 3,\n",
              "         'written': 11,\n",
              "         'letter': 46,\n",
              "         'repeated': 6,\n",
              "         'faintly': 2,\n",
              "         'understand': 17,\n",
              "         'famous': 24,\n",
              "         'legend': 1,\n",
              "         'surprised': 7,\n",
              "         'future': 2,\n",
              "         'books': 43,\n",
              "         'world': 25,\n",
              "         'seriously': 2,\n",
              "         'top': 34,\n",
              "         'turn': 19,\n",
              "         'talk': 21,\n",
              "         'remember': 39,\n",
              "         'growing': 1,\n",
              "         'ready': 16,\n",
              "         'take': 61,\n",
              "         'opened': 19,\n",
              "         'mouth': 21,\n",
              "         'swallowed': 8,\n",
              "         'course': 49,\n",
              "         'getting': 33,\n",
              "         'hiding': 7,\n",
              "         'underneath': 11,\n",
              "         'bringing': 5,\n",
              "         'wise': 3,\n",
              "         'trust': 7,\n",
              "         'life': 39,\n",
              "         'grudgingly': 1,\n",
              "         'pretend': 4,\n",
              "         'does': 34,\n",
              "         'tend': 1,\n",
              "         'low': 15,\n",
              "         'rumbling': 3,\n",
              "         'sound': 18,\n",
              "         'silence': 15,\n",
              "         'grew': 5,\n",
              "         'steadily': 1,\n",
              "         'louder': 1,\n",
              "         'headlight': 1,\n",
              "         'swelled': 2,\n",
              "         'roar': 3,\n",
              "         'huge': 20,\n",
              "         'motorcycle': 8,\n",
              "         'landed': 11,\n",
              "         'astride': 1,\n",
              "         'simply': 8,\n",
              "         'wild': 14,\n",
              "         'tangles': 1,\n",
              "         'bushy': 3,\n",
              "         'hid': 2,\n",
              "         'size': 10,\n",
              "         'trash': 5,\n",
              "         'lids': 1,\n",
              "         'leather': 4,\n",
              "         'baby': 10,\n",
              "         'dolphins': 1,\n",
              "         'vast': 3,\n",
              "         'muscular': 1,\n",
              "         'arms': 23,\n",
              "         'holding': 26,\n",
              "         'bundle': 5,\n",
              "         'blankets': 6,\n",
              "         'relieved': 6,\n",
              "         'borrowed': 3,\n",
              "         'giant': 24,\n",
              "         'climbing': 3,\n",
              "         'carefully': 13,\n",
              "         'sirius': 1,\n",
              "         'lent': 4,\n",
              "         'destroyed': 4,\n",
              "         'started': 49,\n",
              "         'swarmin': 1,\n",
              "         ...})"
            ]
          },
          "metadata": {},
          "execution_count": 10
        }
      ]
    },
    {
      "cell_type": "code",
      "source": [
        "palabras_frecuencia = Counter(libro_limpio.split())\n",
        "vocabulario = list(palabras_frecuencia.keys())\n",
        "print('Palabras en el vocabulario de HP1: ', len(vocabulario))"
      ],
      "metadata": {
        "id": "F6ZHgGt3MkfP",
        "outputId": "cadd01a8-511e-477a-c334-4f959c97aabb",
        "colab": {
          "base_uri": "https://localhost:8080/"
        }
      },
      "execution_count": 11,
      "outputs": [
        {
          "output_type": "stream",
          "name": "stdout",
          "text": [
            "Palabras en el vocabulario de HP1:  5704\n"
          ]
        }
      ]
    },
    {
      "cell_type": "markdown",
      "source": [],
      "metadata": {
        "id": "dTKYeRiRFOWi"
      }
    },
    {
      "cell_type": "markdown",
      "source": [
        "Visualización de la probabilidad de ocurrencia de las 80 palabras más frecuentes"
      ],
      "metadata": {
        "id": "ZQjWCB2rFHek"
      }
    },
    {
      "cell_type": "code",
      "source": [
        "Probabilidad_palabra = {k : v /len(libro_limpio.split()) for k, v in palabras_frecuencia.most_common(80)}\n",
        "\n",
        "x, y  = zip(*sorted(Probabilidad_palabra.items(),key=operator.itemgetter(1), reverse=True))\n",
        "\n",
        "fig = plt.figure(figsize=(15,5))\n",
        "plt.bar(x,y,\n",
        "        color='darkgreen',\n",
        "        alpha=0.5)\n",
        "plt.xticks(rotation=90, fontsize=12)\n",
        "plt.title('Probabilidad de ocurrencia de las palabras en Harry Poter 1')\n",
        "plt.show()"
      ],
      "metadata": {
        "outputId": "3c5df398-9171-4d68-d564-e12493db049e",
        "colab": {
          "base_uri": "https://localhost:8080/",
          "height": 424
        },
        "id": "2aFRS-yECnsY"
      },
      "execution_count": 12,
      "outputs": [
        {
          "output_type": "display_data",
          "data": {
            "text/plain": [
              "<Figure size 1500x500 with 1 Axes>"
            ],
            "image/png": "[encoded data removed]"
          },
          "metadata": {}
        }
      ]
    },
    {
      "cell_type": "markdown",
      "source": [
        "# Generación de Texto con Distribución Uniforme"
      ],
      "metadata": {
        "id": "B158bxow8NSq"
      }
    },
    {
      "cell_type": "markdown",
      "source": [
        "1. Declaramos una lista vacía donde guardaremos las palabras que tendra el texto\n",
        "2. Escojemos la primera palabra de forma aleatoria con distribución uniforme **texto en negrita**"
      ],
      "metadata": {
        "id": "y_Spe0qv9k-Y"
      }
    },
    {
      "cell_type": "code",
      "source": [
        "palabras = []  # inicializamos la lista de palabras\n",
        "\n",
        "#  escojemos la primera palabra de manera aleatoriamente con distribución uniforme\n",
        "palabra_selec = vocabulario[np.random.randint(0, len(vocabulario))]\n",
        "palabras.append(palabra_selec)\n",
        "\n",
        "' '.join(palabras)"
      ],
      "metadata": {
        "colab": {
          "base_uri": "https://localhost:8080/",
          "height": 35
        },
        "id": "RCSIKMO-6jvH",
        "outputId": "fa26c00f-788f-4c5f-c178-96ddf8c01620"
      },
      "execution_count": 13,
      "outputs": [
        {
          "output_type": "execute_result",
          "data": {
            "text/plain": [
              "'chased'"
            ],
            "application/vnd.google.colaboratory.intrinsic+json": {
              "type": "string"
            }
          },
          "metadata": {},
          "execution_count": 13
        }
      ]
    },
    {
      "cell_type": "code",
      "source": [
        "long = 100\n",
        "for _ in range(long):\n",
        "    palabra_selec = vocabulario[np.random.randint(0, len(vocabulario))]\n",
        "    palabras.append(palabra_selec)\n",
        "\n",
        "' '.join(palabras)"
      ],
      "metadata": {
        "colab": {
          "base_uri": "https://localhost:8080/",
          "height": 140
        },
        "id": "E4UZBFsL791v",
        "outputId": "55b0d1fa-e0d8-4657-a17a-7ab61670faac"
      },
      "execution_count": 16,
      "outputs": [
        {
          "output_type": "execute_result",
          "data": {
            "text/plain": [
              "'chased cheerful gossiped moan granite kick shove haaa tasty normal crushing tureens excitedly phoenix monk meanin horny wristwatches underneath side african l bendy falling hungry finds smooth free disappointment bunches july grunnings ignore fer strangled velvety rocketed made muggles particularly haircut engulfed never driven indeed flanks bath ending orange broad boarded caretaker gives mystery sideways squat smooth til appearance cabbages describing packed confusion dashed scissors fumbling you ground marmalade argued mingled nah seize painfully howl grasping gown sausage phoning hog wanted past mess astronomy bitter pellets switch squeaky whistle pansy voicing types a alarm poke bodied smiled conjured shack coat cans resolution duels raise dunderhead silk damn value stomping term straying'"
            ],
            "application/vnd.google.colaboratory.intrinsic+json": {
              "type": "string"
            }
          },
          "metadata": {},
          "execution_count": 16
        }
      ]
    },
    {
      "cell_type": "markdown",
      "source": [
        "lo que sería equivalente a lo siguiente:"
      ],
      "metadata": {
        "id": "yr0O1-NoIztr"
      }
    },
    {
      "cell_type": "code",
      "source": [
        "' '.join(np.random.choice(vocabulario,100))"
      ],
      "metadata": {
        "id": "YMVDCyl9Im1c",
        "outputId": "6211c7d9-ab02-4a9a-c81e-0d0865f1f8ef",
        "colab": {
          "base_uri": "https://localhost:8080/",
          "height": 122
        }
      },
      "execution_count": 17,
      "outputs": [
        {
          "output_type": "execute_result",
          "data": {
            "text/plain": [
              "'fondly astride smartly circe moon useless map paracelsus messin think stage sword ask beginners spotting bill drifted seeping breathing only ajar herbology overtaking student turban firsties believed shriek tell boomed leap stuck stove languages meet accept wizardry lace prickled angel removed thumbs potato bandages snoring blast mossy risky hooch smoother dives hammered dimpled chessmen best shouldn knee sing shake rivers informed lifting scene pleaded striped herbs england bulstrode mere scar platforms else nobody crazy hopped express wooden dates well gap behavior present clean hawk swung soaring streamed clean our weak hanging bishop promised lawns panic wormwood strong inches dursley phoning'"
            ],
            "application/vnd.google.colaboratory.intrinsic+json": {
              "type": "string"
            }
          },
          "metadata": {},
          "execution_count": 17
        }
      ]
    },
    {
      "cell_type": "markdown",
      "source": [
        "# Generación de Texto con distribucción de palabras en HP"
      ],
      "metadata": {
        "id": "DWYex8G6AXpX"
      }
    },
    {
      "cell_type": "code",
      "source": [
        "' '.join(random.sample(libro_limpio.split(),100))    #Distribución en el libro"
      ],
      "metadata": {
        "id": "NUv-9SWkJoWD",
        "outputId": "494f00a5-3ce0-4123-e91b-fae069d9b9e4",
        "colab": {
          "base_uri": "https://localhost:8080/",
          "height": 105
        }
      },
      "execution_count": 18,
      "outputs": [
        {
          "output_type": "execute_result",
          "data": {
            "text/plain": [
              "'in for he saw train and but would presents under you up potter you white that looked lights emptier tell long ages head going hermione anything have been leviosal a it attention table a and chuckled you all for violently before listen to tail into a rubeus snape and thought a said me filled hard dudley beard they only the her it crabbe a the to about yer put realize is the precisely s of all he bogies law a when his what he hedwig in yelled world temper no dog was under me a you brother tears face open'"
            ],
            "application/vnd.google.colaboratory.intrinsic+json": {
              "type": "string"
            }
          },
          "metadata": {},
          "execution_count": 18
        }
      ]
    },
    {
      "cell_type": "markdown",
      "metadata": {
        "id": "EGGOdplXLoKx"
      },
      "source": [
        "# Generación de texto usando N Gramas"
      ]
    },
    {
      "cell_type": "code",
      "source": [
        "unigramas = palabras_frecuencia\n",
        "print('Unigramas Unicos: ', len(unigramas), end='\\n\\n')\n",
        "unigramas.most_common(30)"
      ],
      "metadata": {
        "id": "Kzas2Fa3MX0h",
        "outputId": "18f9522b-dfb5-44ee-e5b3-1ba0a7e3752d",
        "colab": {
          "base_uri": "https://localhost:8080/"
        }
      },
      "execution_count": 19,
      "outputs": [
        {
          "output_type": "stream",
          "name": "stdout",
          "text": [
            "Unigramas Unicos:  5704\n",
            "\n"
          ]
        },
        {
          "output_type": "execute_result",
          "data": {
            "text/plain": [
              "[('the', 3651),\n",
              " ('and', 1935),\n",
              " ('to', 1872),\n",
              " ('he', 1757),\n",
              " ('a', 1687),\n",
              " ('harry', 1336),\n",
              " ('of', 1311),\n",
              " ('was', 1262),\n",
              " ('it', 1186),\n",
              " ('you', 1037),\n",
              " ('not', 1014),\n",
              " ('in', 967),\n",
              " ('his', 936),\n",
              " ('i', 923),\n",
              " ('said', 794),\n",
              " ('had', 755),\n",
              " ('they', 690),\n",
              " ('that', 688),\n",
              " ('on', 637),\n",
              " ('is', 629),\n",
              " ('at', 625),\n",
              " ('s', 564),\n",
              " ('as', 526),\n",
              " ('him', 500),\n",
              " ('have', 491),\n",
              " ('but', 485),\n",
              " ('ron', 429),\n",
              " ('would', 421),\n",
              " ('with', 416),\n",
              " ('all', 399)]"
            ]
          },
          "metadata": {},
          "execution_count": 19
        }
      ]
    },
    {
      "cell_type": "code",
      "source": [
        "bigramas = Counter(obtener_ngramas(libro_limpio, 2))\n",
        "print('Bigramas Unicos: ', len(bigramas), end='\\n\\n')\n",
        "bigramas.most_common(30)"
      ],
      "metadata": {
        "id": "vPD-_NU3Oupl",
        "outputId": "07b02e74-17ca-45ed-a376-8ae860eb460f",
        "colab": {
          "base_uri": "https://localhost:8080/"
        }
      },
      "execution_count": 20,
      "outputs": [
        {
          "output_type": "stream",
          "name": "stdout",
          "text": [
            "Bigramas Unicos:  41298\n",
            "\n"
          ]
        },
        {
          "output_type": "execute_result",
          "data": {
            "text/plain": [
              "[(('of', 'the'), 305),\n",
              " (('in', 'the'), 270),\n",
              " (('it', 'was'), 227),\n",
              " (('on', 'the'), 218),\n",
              " (('he', 'was'), 209),\n",
              " (('did', 'not'), 200),\n",
              " (('to', 'the'), 173),\n",
              " (('it', 'is'), 170),\n",
              " (('do', 'not'), 159),\n",
              " (('he', 'would'), 158),\n",
              " (('out', 'of'), 148),\n",
              " (('at', 'the'), 141),\n",
              " (('said', 'harry'), 137),\n",
              " (('he', 'had'), 135),\n",
              " (('i', 'am'), 130),\n",
              " (('harry', 's'), 113),\n",
              " (('to', 'be'), 110),\n",
              " (('said', 'ron'), 109),\n",
              " (('uncle', 'vernon'), 107),\n",
              " (('could', 'not'), 106),\n",
              " (('he', 'said'), 106),\n",
              " (('in', 'a'), 105),\n",
              " (('i', 'have'), 102),\n",
              " (('they', 'were'), 99),\n",
              " (('was', 'a'), 99),\n",
              " (('and', 'the'), 93),\n",
              " (('professor', 'mcgonagall'), 92),\n",
              " (('said', 'hagrid'), 90),\n",
              " (('going', 'to'), 89),\n",
              " (('he', 'is'), 88)]"
            ]
          },
          "metadata": {},
          "execution_count": 20
        }
      ]
    },
    {
      "cell_type": "code",
      "source": [
        "trigramas = Counter(obtener_ngramas(libro_limpio,3))\n",
        "trigramas.most_common(30)"
      ],
      "metadata": {
        "id": "Dejjr81AKVQS",
        "outputId": "b9dc628e-9b76-47b4-c179-356c027970cf",
        "colab": {
          "base_uri": "https://localhost:8080/"
        }
      },
      "execution_count": 21,
      "outputs": [
        {
          "output_type": "execute_result",
          "data": {
            "text/plain": [
              "[(('out', 'of', 'the'), 63),\n",
              " (('i', 'do', 'not'), 46),\n",
              " (('he', 'did', 'not'), 38),\n",
              " (('harry', 'and', 'ron'), 37),\n",
              " (('there', 'was', 'a'), 35),\n",
              " (('he', 'could', 'not'), 35),\n",
              " (('ron', 'and', 'hermione'), 33),\n",
              " (('do', 'not', 'know'), 31),\n",
              " (('it', 'was', 'a'), 28),\n",
              " (('one', 'of', 'the'), 27),\n",
              " (('in', 'front', 'of'), 25),\n",
              " (('you', 'know', 'who'), 23),\n",
              " (('they', 'did', 'not'), 22),\n",
              " (('seemed', 'to', 'be'), 22),\n",
              " (('harry', 'did', 'not'), 22),\n",
              " (('have', 'got', 'to'), 22),\n",
              " (('he', 'had', 'not'), 21),\n",
              " (('it', 'was', 'not'), 21),\n",
              " (('the', 'end', 'of'), 21),\n",
              " (('out', 'of', 'his'), 20),\n",
              " (('was', 'going', 'to'), 20),\n",
              " (('you', 'do', 'not'), 20),\n",
              " (('did', 'not', 'have'), 19),\n",
              " (('it', 'is', 'not'), 19),\n",
              " (('be', 'able', 'to'), 19),\n",
              " (('i', 'have', 'got'), 19),\n",
              " (('as', 'though', 'he'), 19),\n",
              " (('we', 'have', 'got'), 19),\n",
              " (('did', 'not', 'know'), 18),\n",
              " (('the', 'rest', 'of'), 18)]"
            ]
          },
          "metadata": {},
          "execution_count": 21
        }
      ]
    },
    {
      "cell_type": "markdown",
      "metadata": {
        "id": "eov6CgUnbg9v"
      },
      "source": [
        "## Crear textos basadas en la probabilidad de ocurrencia"
      ]
    },
    {
      "cell_type": "code",
      "metadata": {
        "id": "S3Bv8HcAQ-OZ"
      },
      "source": [
        "def probabilidad_unigrama(token):\n",
        "    if token not in unigramas:\n",
        "        return 0\n",
        "    return unigramas[token] / total_tokens\n",
        "\n",
        "def probabilidad_bigrama(secuencia):\n",
        "    if secuencia not in bigramas:\n",
        "        return 0\n",
        "    return bigramas[secuencia] / unigramas[secuencia[0]]\n",
        "\n",
        "def probabilidad_trigrama(secuencia):\n",
        "    if secuencia not in trigramas:\n",
        "        return 0\n",
        "    return trigramas[secuencia] / bigramas[secuencia[:2]]\n",
        "\n",
        "def selecciona_siguiente_token(secuencia):\n",
        "    lista_palabras_candidatos = []\n",
        "\n",
        "    # Itera por todos los tokens del vocabulario\n",
        "    # calculando la probabilidad de seleccionar la siguiente palabra\n",
        "    for p in vocabulario:\n",
        "        Prob1 = unigramas[p] / len(vocabulario)\n",
        "        Prob2 = probabilidad_bigrama((secuencia[-1], p))\n",
        "        Prob3 = probabilidad_trigrama((secuencia[-2], secuencia[-1], p)) if len(secuencia) >= 3 else 0\n",
        "\n",
        "        # Usamos una interpolación lineal\n",
        "        Probabilidad =  0.05*Prob1 + 0.35*Prob2 + 0.60*Prob3\n",
        "\n",
        "        lista_palabras_candidatos.append((p, Probabilidad))\n",
        "\n",
        "    # orenamos la lista de mayor a menor probabilidad\n",
        "    lista_palabras_candidatos.sort(key=lambda x: x[1], reverse=True)\n",
        "    return lista_palabras_candidatos[0][0]\n",
        "\n"
      ],
      "execution_count": 22,
      "outputs": []
    },
    {
      "cell_type": "code",
      "metadata": {
        "colab": {
          "base_uri": "https://localhost:8080/",
          "height": 87
        },
        "id": "_Gnh5e_mbkvA",
        "outputId": "9fe8259b-8092-4031-8ca5-4fa844856a9c"
      },
      "source": [
        "palabras = []\n",
        "longitud_texto = 100\n",
        "\n",
        "#  escojemos la primera palabra de manera aleatoriamente con distribución uniforme\n",
        "palabra_selec = vocabulario[np.random.randint(0, len(vocabulario))]\n",
        "palabras.append(palabra_selec)\n",
        "\n",
        "for _ in range(longitud_texto-1):\n",
        "    palabra_selec = selecciona_siguiente_token(palabras)\n",
        "    palabras.append(palabra_selec)\n",
        "\" \".join(palabras)"
      ],
      "execution_count": 27,
      "outputs": [
        {
          "output_type": "execute_result",
          "data": {
            "text/plain": [
              "'relatives he was not going to be a bit of a large pink face not much room dudley was now so busy with the dursleys had never seen before were the only one who has gone dumbledore said harry and ron were still to come and have a good idea of harry s the only one who has gone dumbledore said harry and ron were still to come and have a good idea of harry s the only one who has gone dumbledore said harry and ron were still to come and have a good idea of harry s the'"
            ],
            "application/vnd.google.colaboratory.intrinsic+json": {
              "type": "string"
            }
          },
          "metadata": {},
          "execution_count": 27
        }
      ]
    }
  ]
}